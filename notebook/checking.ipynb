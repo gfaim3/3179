{
 "cells": [
  {
   "cell_type": "code",
   "execution_count": 1,
   "id": "4f711901",
   "metadata": {},
   "outputs": [],
   "source": [
    "import pandas as pd\n",
    "import matplotlib.pyplot as plt"
   ]
  },
  {
   "cell_type": "code",
   "execution_count": 12,
   "id": "17710532",
   "metadata": {},
   "outputs": [],
   "source": [
    "metro = pd.read_csv('Metro_sales_count_now_uc_sfrcondo_month.csv')\n",
    "metro = metro[metro['StateName'] == 'NY'].copy()"
   ]
  },
  {
   "cell_type": "code",
   "execution_count": 16,
   "id": "a87db6cf",
   "metadata": {},
   "outputs": [],
   "source": [
    "metro.to_csv(\"NY_salescount.csv\", index=False)\n"
   ]
  },
  {
   "cell_type": "code",
   "execution_count": null,
   "id": "08787e6b",
   "metadata": {},
   "outputs": [],
   "source": []
  }
 ],
 "metadata": {
  "kernelspec": {
   "display_name": "Python 3",
   "language": "python",
   "name": "python3"
  },
  "language_info": {
   "codemirror_mode": {
    "name": "ipython",
    "version": 3
   },
   "file_extension": ".py",
   "mimetype": "text/x-python",
   "name": "python",
   "nbconvert_exporter": "python",
   "pygments_lexer": "ipython3",
   "version": "3.10.2"
  }
 },
 "nbformat": 4,
 "nbformat_minor": 5
}
